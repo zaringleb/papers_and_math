{
 "cells": [
  {
   "cell_type": "code",
   "execution_count": 1,
   "metadata": {},
   "outputs": [],
   "source": [
    "from collections import defaultdict\n",
    "import numpy as np\n",
    "import matplotlib.pyplot as plt\n",
    "import tensorflow as tf"
   ]
  },
  {
   "cell_type": "code",
   "execution_count": 2,
   "metadata": {},
   "outputs": [
    {
     "name": "stdout",
     "output_type": "stream",
     "text": [
      "env: CUDA_DEVICE_ORDER=PCI_BUS_ID\n",
      "env: CUDA_VISIBLE_DEVICES=1\n"
     ]
    }
   ],
   "source": [
    "%env CUDA_DEVICE_ORDER=PCI_BUS_ID\n",
    "%env CUDA_VISIBLE_DEVICES=1"
   ]
  },
  {
   "cell_type": "code",
   "execution_count": 3,
   "metadata": {},
   "outputs": [],
   "source": [
    "def scaled_dot_product_attention(q, k, v):\n",
    "    \"\"\"Calculate the attention weights.\n",
    "    q, k, v must have matching leading dimensions.\n",
    "    k, v must have matching penultimate dimension, i.e.: seq_len_k = seq_len_v.\n",
    "\n",
    "    Args:\n",
    "    q: query shape == (..., seq_len_q, depth)\n",
    "    k: key shape == (..., seq_len_k, depth)\n",
    "    v: value shape == (..., seq_len_v, depth_v)\n",
    "\n",
    "    Returns:\n",
    "    output, attention_weights\n",
    "    \"\"\"\n",
    "\n",
    "    qk = tf.matmul(q, k, transpose_b=True)  # (..., seq_len_q, seq_len_k)\n",
    "    attention_weights = tf.nn.softmax(qk, axis=-1)  # (..., seq_len_q, seq_len_k)\n",
    "    output = tf.matmul(attention_weights, v)  # (..., seq_len_q, depth_v)\n",
    "    \n",
    "    return output, attention_weights"
   ]
  },
  {
   "cell_type": "code",
   "execution_count": 4,
   "metadata": {},
   "outputs": [],
   "source": [
    "class AttentionModel(tf.keras.layers.Layer):\n",
    "    def __init__(self, d_model, analytical_solution=False):\n",
    "        super(AttentionModel, self).__init__()\n",
    "        self.d_model = d_model\n",
    "\n",
    "        if analytical_solution:\n",
    "            key_and_query_initializer = tf.keras.initializers.Identity(1000)\n",
    "            value_initializer = tf.keras.initializers.Identity()\n",
    "            self.wq = tf.keras.layers.Dense(d_model, use_bias=False, name='Q', kernel_initializer=key_and_query_initializer)\n",
    "            self.wk = tf.keras.layers.Dense(d_model, use_bias=False, name='K', kernel_initializer=key_and_query_initializer)\n",
    "            self.wv = tf.keras.layers.Dense(d_model, use_bias=False, name='V', kernel_initializer=value_initializer)\n",
    "            \n",
    "        else:\n",
    "            self.wq = tf.keras.layers.Dense(d_model, use_bias=False, name='Q')\n",
    "            self.wk = tf.keras.layers.Dense(d_model, use_bias=False, name='K')\n",
    "            self.wv = tf.keras.layers.Dense(d_model, use_bias=False, name='V')\n",
    "\n",
    "    def call(self, x):\n",
    "        batch_size = tf.shape(x)[0]\n",
    "\n",
    "        q = self.wq(x)  # (batch_size, seq_len, d_model)\n",
    "        k = self.wk(x)  # (batch_size, seq_len, d_model)\n",
    "        v = self.wv(x)  # (batch_size, seq_len, d_model)\n",
    "\n",
    "        \n",
    "        # scaled_attention.shape == (batch_size, num_heads, seq_len_q, depth)\n",
    "        # attention_weights.shape == (batch_size, num_heads, seq_len_q, seq_len_k)\n",
    "        scaled_attention, attention_weights = scaled_dot_product_attention(\n",
    "            q, k, v)\n",
    "\n",
    "        y = tf.math.reduce_sum(scaled_attention[:, 0], axis=-1)\n",
    "\n",
    "        return y\n",
    "    \n",
    "    \n",
    "model = AttentionModel(2)\n",
    "analytical = AttentionModel(2, True)"
   ]
  },
  {
   "cell_type": "code",
   "execution_count": 5,
   "metadata": {},
   "outputs": [
    {
     "data": {
      "text/plain": [
       "[<tf.Variable 'attention_model_1/Q/kernel:0' shape=(1, 2) dtype=float32, numpy=array([[1000.,    0.]], dtype=float32)>,\n",
       " <tf.Variable 'attention_model_1/K/kernel:0' shape=(1, 2) dtype=float32, numpy=array([[1000.,    0.]], dtype=float32)>,\n",
       " <tf.Variable 'attention_model_1/V/kernel:0' shape=(1, 2) dtype=float32, numpy=array([[1., 0.]], dtype=float32)>]"
      ]
     },
     "execution_count": 5,
     "metadata": {},
     "output_type": "execute_result"
    }
   ],
   "source": [
    "temp_input = tf.random.uniform((2, 1), dtype=tf.float32, minval=0, maxval=1)\n",
    "analytical(temp_input)\n",
    "analytical.trainable_variables"
   ]
  },
  {
   "cell_type": "code",
   "execution_count": 6,
   "metadata": {},
   "outputs": [],
   "source": [
    "def gen_dataset(size, batch_size=32):\n",
    "    n = 2\n",
    "    x = np.random.random((size, n, 1))\n",
    "    y = x.max(axis=1)\n",
    "\n",
    "    return tf.data.Dataset.from_tensor_slices((x, y)).batch(batch_size)\n",
    "\n",
    "\n",
    "\n",
    "train_ds = gen_dataset(500)\n",
    "test_ds = gen_dataset(5000)"
   ]
  },
  {
   "cell_type": "code",
   "execution_count": 7,
   "metadata": {},
   "outputs": [
    {
     "name": "stdout",
     "output_type": "stream",
     "text": [
      "tf.Tensor(\n",
      "[[0.5611439 ]\n",
      " [0.38295653]], shape=(2, 1), dtype=float64)\n"
     ]
    }
   ],
   "source": [
    "for one, _ in test_ds:\n",
    "    print(one[0])\n",
    "    break"
   ]
  },
  {
   "cell_type": "code",
   "execution_count": 8,
   "metadata": {},
   "outputs": [
    {
     "name": "stdout",
     "output_type": "stream",
     "text": [
      "WARNING:tensorflow:Layer attention_model is casting an input tensor from dtype float64 to the layer's dtype of float32, which is new behavior in TensorFlow 2.  The layer has dtype float32 because it's dtype defaults to floatx.\n",
      "\n",
      "If you intended to run this layer in float32, you can safely ignore this warning. If in doubt, this warning is likely only an issue if you are porting a TensorFlow 1.X model to TensorFlow 2.\n",
      "\n",
      "To change all layers to have dtype float64 by default, call `tf.keras.backend.set_floatx('float64')`. To change just this layer, pass dtype='float64' to the layer constructor. If you are the author of this layer, you can disable autocasting by passing autocast=False to the base Layer constructor.\n",
      "\n",
      "tf.Tensor(0.15397447, shape=(), dtype=float32)\n"
     ]
    }
   ],
   "source": [
    "for one, _ in test_ds:\n",
    "    print(model(one)[0])\n",
    "    break"
   ]
  },
  {
   "cell_type": "code",
   "execution_count": 9,
   "metadata": {},
   "outputs": [],
   "source": [
    "metric = tf.keras.metrics.MeanSquaredError(\n",
    "    name='mean_squared_error', dtype=None\n",
    ")\n",
    "\n",
    "test_metric = tf.keras.metrics.MeanSquaredError(\n",
    "    name='test_mean_squared_error', dtype=None\n",
    ")\n",
    "\n",
    "loss_object = tf.keras.losses.MeanSquaredError()\n",
    "\n",
    "optimizer = tf.keras.optimizers.Adam(learning_rate=0.05)"
   ]
  },
  {
   "cell_type": "code",
   "execution_count": 10,
   "metadata": {},
   "outputs": [
    {
     "name": "stdout",
     "output_type": "stream",
     "text": [
      "WARNING:tensorflow:Layer attention_model_1 is casting an input tensor from dtype float64 to the layer's dtype of float32, which is new behavior in TensorFlow 2.  The layer has dtype float32 because it's dtype defaults to floatx.\n",
      "\n",
      "If you intended to run this layer in float32, you can safely ignore this warning. If in doubt, this warning is likely only an issue if you are porting a TensorFlow 1.X model to TensorFlow 2.\n",
      "\n",
      "To change all layers to have dtype float64 by default, call `tf.keras.backend.set_floatx('float64')`. To change just this layer, pass dtype='float64' to the layer constructor. If you are the author of this layer, you can disable autocasting by passing autocast=False to the base Layer constructor.\n",
      "\n",
      "tf.Tensor(0.0, shape=(), dtype=float32)\n"
     ]
    }
   ],
   "source": [
    "test_metric.reset_states()\n",
    "\n",
    "for x, y in test_ds:\n",
    "    predictions = analytical(x, training=False)\n",
    "\n",
    "    test_metric(y, predictions)\n",
    "print(test_metric.result())"
   ]
  },
  {
   "cell_type": "code",
   "execution_count": 11,
   "metadata": {},
   "outputs": [],
   "source": [
    "@tf.function\n",
    "def train_step(x, y):\n",
    "    with tf.GradientTape() as tape:\n",
    "        predictions = model(x, training=True)\n",
    "        loss = loss_object(y, predictions)\n",
    "    gradients = tape.gradient(loss, model.trainable_variables)\n",
    "    optimizer.apply_gradients(zip(gradients, model.trainable_variables))\n",
    "\n",
    "    metric(y, predictions)\n",
    "    \n",
    "@tf.function\n",
    "def test_step(x, y):\n",
    "    predictions = model(x, training=False)\n",
    "\n",
    "    test_metric(y, predictions)"
   ]
  },
  {
   "cell_type": "code",
   "execution_count": 12,
   "metadata": {
    "scrolled": true
   },
   "outputs": [
    {
     "name": "stdout",
     "output_type": "stream",
     "text": [
      "Epoch 1, Train: 0.07857292145490646, Test: 0.29175296425819397, \n",
      "Epoch 2, Train: 0.021382847800850868, Test: 0.031977590173482895, \n",
      "Epoch 3, Train: 0.012054416351020336, Test: 0.01664106361567974, \n",
      "Epoch 4, Train: 0.00808650627732277, Test: 0.00987904891371727, \n",
      "Epoch 5, Train: 0.007203350774943829, Test: 0.009564390406012535, \n",
      "Epoch 6, Train: 0.006553126499056816, Test: 0.00849725678563118, \n",
      "Epoch 7, Train: 0.005928630009293556, Test: 0.007973495870828629, \n",
      "Epoch 8, Train: 0.005238991696387529, Test: 0.0072736581787467, \n",
      "Epoch 9, Train: 0.0045684389770030975, Test: 0.0064782011322677135, \n",
      "Epoch 10, Train: 0.003959957975894213, Test: 0.005720713175833225, \n",
      "Epoch 11, Train: 0.003448086092248559, Test: 0.005061580333858728, \n",
      "Epoch 12, Train: 0.003036940237507224, Test: 0.004518517293035984, \n",
      "Epoch 13, Train: 0.002710059517994523, Test: 0.00407995143905282, \n",
      "Epoch 14, Train: 0.002448303857818246, Test: 0.0037263277918100357, \n",
      "Epoch 15, Train: 0.002235839143395424, Test: 0.003439289052039385, \n",
      "Epoch 16, Train: 0.002060564234852791, Test: 0.003203553846105933, \n",
      "Epoch 17, Train: 0.0019134428584948182, Test: 0.0030066315084695816, \n",
      "Epoch 18, Train: 0.0017877797363325953, Test: 0.002838257933035493, \n",
      "Epoch 19, Train: 0.0016786236083135009, Test: 0.0026899955701082945, \n",
      "Epoch 20, Train: 0.0015823342837393284, Test: 0.002555145649239421, \n",
      "Epoch 21, Train: 0.0014962706482037902, Test: 0.002428935607895255, \n",
      "Epoch 22, Train: 0.0014185826294124126, Test: 0.0023087295703589916, \n",
      "Epoch 23, Train: 0.0013480311026796699, Test: 0.0021940316073596478, \n",
      "Epoch 24, Train: 0.0012838160619139671, Test: 0.00208604265935719, \n",
      "Epoch 25, Train: 0.0012254153843969107, Test: 0.001986746210604906, \n",
      "Epoch 26, Train: 0.0011724357027560472, Test: 0.0018978321459144354, \n",
      "Epoch 27, Train: 0.0011245155474171042, Test: 0.0018198871985077858, \n",
      "Epoch 28, Train: 0.0010812714463099837, Test: 0.0017521774861961603, \n",
      "Epoch 29, Train: 0.0010422897757962346, Test: 0.0016930407145991921, \n",
      "Epoch 30, Train: 0.001007135841064155, Test: 0.0016405413625761867, \n",
      "Epoch 31, Train: 0.0009753719205036759, Test: 0.0015930176014080644, \n",
      "Epoch 32, Train: 0.0009465725743211806, Test: 0.001549296430312097, \n",
      "Epoch 33, Train: 0.0009203467052429914, Test: 0.0015086455969139934, \n",
      "Epoch 34, Train: 0.0008963525178842247, Test: 0.0014706063084304333, \n",
      "Epoch 35, Train: 0.0008743056678213179, Test: 0.0014348631957545877, \n",
      "Epoch 36, Train: 0.0008539691916666925, Test: 0.0014011720195412636, \n",
      "Epoch 37, Train: 0.0008351473370566964, Test: 0.0013693268410861492, \n",
      "Epoch 38, Train: 0.0008176728151738644, Test: 0.0013391587417572737, \n",
      "Epoch 39, Train: 0.0008014006889425218, Test: 0.0013105265097692609, \n",
      "Epoch 40, Train: 0.0007862068596296012, Test: 0.0012833039509132504, \n",
      "Epoch 41, Train: 0.0007719817804172635, Test: 0.001257382333278656, \n",
      "Epoch 42, Train: 0.000758631038479507, Test: 0.0012326602591201663, \n",
      "Epoch 43, Train: 0.000746070290915668, Test: 0.0012090493692085147, \n",
      "Epoch 44, Train: 0.0007342261960729957, Test: 0.001186469686217606, \n",
      "Epoch 45, Train: 0.0007230335613712668, Test: 0.0011648464715108275, \n",
      "Epoch 46, Train: 0.0007124349940568209, Test: 0.001144114532507956, \n",
      "Epoch 47, Train: 0.0007023790385574102, Test: 0.0011242127511650324, \n",
      "Epoch 48, Train: 0.0006928200600668788, Test: 0.0011050842003896832, \n",
      "Epoch 49, Train: 0.0006837166729383171, Test: 0.001086680218577385, \n",
      "Epoch 50, Train: 0.0006750321481376886, Test: 0.0010689528426155448, \n",
      "Epoch 51, Train: 0.0006667339475825429, Test: 0.001051858183927834, \n",
      "Epoch 52, Train: 0.0006587916286662221, Test: 0.0010353588731959462, \n",
      "Epoch 53, Train: 0.0006511793471872807, Test: 0.0010194185888394713, \n",
      "Epoch 54, Train: 0.0006438716081902385, Test: 0.001004001940600574, \n",
      "Epoch 55, Train: 0.0006368474569171667, Test: 0.0009890818037092686, \n",
      "Epoch 56, Train: 0.000630086287856102, Test: 0.000974626571405679, \n",
      "Epoch 57, Train: 0.0006235702894628048, Test: 0.0009606129606254399, \n",
      "Epoch 58, Train: 0.000617282057646662, Test: 0.0009470130898989737, \n",
      "Epoch 59, Train: 0.0006112075643613935, Test: 0.00093380908947438, \n",
      "Epoch 60, Train: 0.0006053328397683799, Test: 0.0009209763375110924, \n",
      "Epoch 61, Train: 0.0005996446707285941, Test: 0.0009084990015253425, \n",
      "Epoch 62, Train: 0.0005941317649558187, Test: 0.0008963578147813678, \n",
      "Epoch 63, Train: 0.0005887833540327847, Test: 0.0008845357806421816, \n",
      "Epoch 64, Train: 0.0005835904157720506, Test: 0.0008730179397389293, \n",
      "Epoch 65, Train: 0.0005785436369478703, Test: 0.0008617914863862097, \n",
      "Epoch 66, Train: 0.000573634693864733, Test: 0.0008508418686687946, \n",
      "Epoch 67, Train: 0.0005688566016033292, Test: 0.0008401572704315186, \n",
      "Epoch 68, Train: 0.0005642014439217746, Test: 0.0008297257008962333, \n",
      "Epoch 69, Train: 0.0005596642149612308, Test: 0.000819539069198072, \n",
      "Epoch 70, Train: 0.0005552382790483534, Test: 0.0008095852099359035, \n",
      "Epoch 71, Train: 0.0005509191541932523, Test: 0.0007998567307367921, \n",
      "Epoch 72, Train: 0.0005467013106681406, Test: 0.0007903443183749914, \n",
      "Epoch 73, Train: 0.000542580964975059, Test: 0.0007810418610461056, \n",
      "Epoch 74, Train: 0.000538553693331778, Test: 0.0007719412678852677, \n",
      "Epoch 75, Train: 0.0005346161196939647, Test: 0.0007630371837876737, \n",
      "Epoch 76, Train: 0.0005307654500938952, Test: 0.0007543233805336058, \n",
      "Epoch 77, Train: 0.0005269983666948974, Test: 0.0007457950268872082, \n",
      "Epoch 78, Train: 0.0005233125993981957, Test: 0.0007374474662356079, \n",
      "Epoch 79, Train: 0.0005197059945203364, Test: 0.0007292777881957591, \n",
      "Epoch 80, Train: 0.0005161762237548828, Test: 0.000721281860023737, \n",
      "Epoch 81, Train: 0.0005127228796482086, Test: 0.0007134575280360878, \n",
      "Epoch 82, Train: 0.0005093445652164519, Test: 0.0007058043265715241, \n",
      "Epoch 83, Train: 0.0005060391267761588, Test: 0.0006983171915635467, \n",
      "Epoch 84, Train: 0.000502808194141835, Test: 0.0006910005467943847, \n",
      "Epoch 85, Train: 0.0004996497882530093, Test: 0.0006838521221652627, \n",
      "Epoch 86, Train: 0.0004965653060935438, Test: 0.0006768735474906862, \n",
      "Epoch 87, Train: 0.0004935551551170647, Test: 0.0006700680241920054, \n",
      "Epoch 88, Train: 0.0004906198009848595, Test: 0.0006634375313296914, \n",
      "Epoch 89, Train: 0.0004877608153037727, Test: 0.0006569872493855655, \n",
      "Epoch 90, Train: 0.00048498043906874955, Test: 0.0006507239304482937, \n",
      "Epoch 91, Train: 0.0004822799819521606, Test: 0.0006446530460380018, \n",
      "Epoch 92, Train: 0.0004796617431566119, Test: 0.0006387831526808441, \n",
      "Epoch 93, Train: 0.0004771295061800629, Test: 0.0006331280455924571, \n",
      "Epoch 94, Train: 0.00047468749107792974, Test: 0.0006276980275288224, \n",
      "Epoch 95, Train: 0.0004723372985608876, Test: 0.0006225082324817777, \n",
      "Epoch 96, Train: 0.0004700849240180105, Test: 0.0006175749585963786, \n",
      "Epoch 97, Train: 0.00046793505316600204, Test: 0.0006129200919531286, \n",
      "Epoch 98, Train: 0.0004658919933717698, Test: 0.0006085635395720601, \n",
      "Epoch 99, Train: 0.0004639616818167269, Test: 0.0006045330665074289, \n",
      "Epoch 100, Train: 0.0004621496482286602, Test: 0.0006008555646985769, \n",
      "Epoch 101, Train: 0.00046046197530813515, Test: 0.0005975647363811731, \n",
      "Epoch 102, Train: 0.00045890529872849584, Test: 0.00059469387633726, \n",
      "Epoch 103, Train: 0.0004574837221298367, Test: 0.0005922786658629775, \n",
      "Epoch 104, Train: 0.00045620257151313126, Test: 0.0005903571145609021, \n",
      "Epoch 105, Train: 0.0004550672019831836, Test: 0.0005889706662856042, \n",
      "Epoch 106, Train: 0.00045408084406517446, Test: 0.0005881591932848096, \n",
      "Epoch 107, Train: 0.00045324512757360935, Test: 0.0005879580858163536, \n",
      "Epoch 108, Train: 0.0004525604599621147, Test: 0.0005884040729142725, \n",
      "Epoch 109, Train: 0.0004520233196672052, Test: 0.0005895228241570294, \n",
      "Epoch 110, Train: 0.0004516300105024129, Test: 0.0005913336062803864, \n",
      "Epoch 111, Train: 0.0004513711028266698, Test: 0.0005938489339314401, \n",
      "Epoch 112, Train: 0.0004512346931733191, Test: 0.0005970596102997661, \n",
      "Epoch 113, Train: 0.00045120500726625323, Test: 0.0006009443895891309, \n",
      "Epoch 114, Train: 0.000451261323178187, Test: 0.0006054617697373033, \n",
      "Epoch 115, Train: 0.0004513795720413327, Test: 0.000610551331192255, \n",
      "Epoch 116, Train: 0.00045153385144658387, Test: 0.0006161381024867296, \n",
      "Epoch 117, Train: 0.0004516952612902969, Test: 0.000622127263341099, \n",
      "Epoch 118, Train: 0.0004518327477853745, Test: 0.0006284057162702084, \n",
      "Epoch 119, Train: 0.0004519133653957397, Test: 0.0006348562892526388, \n"
     ]
    },
    {
     "name": "stdout",
     "output_type": "stream",
     "text": [
      "Epoch 120, Train: 0.0004519088543020189, Test: 0.0006413486553356051, \n",
      "Epoch 121, Train: 0.00045179034350439906, Test: 0.0006477597635239363, \n",
      "Epoch 122, Train: 0.00045153105747886, Test: 0.0006539647001773119, \n",
      "Epoch 123, Train: 0.00045110820792615414, Test: 0.000659849145449698, \n",
      "Epoch 124, Train: 0.0004505033139139414, Test: 0.0006653083255514503, \n",
      "Epoch 125, Train: 0.0004497032205108553, Test: 0.000670257315505296, \n",
      "Epoch 126, Train: 0.00044869829434901476, Test: 0.0006746308063156903, \n",
      "Epoch 127, Train: 0.00044748224900104105, Test: 0.0006783681455999613, \n",
      "Epoch 128, Train: 0.00044605377479456365, Test: 0.0006814313237555325, \n",
      "Epoch 129, Train: 0.00044441400677897036, Test: 0.0006838029948994517, \n",
      "Epoch 130, Train: 0.0004425672523211688, Test: 0.0006854658713564277, \n",
      "Epoch 131, Train: 0.00044052008888684213, Test: 0.0006864290335215628, \n",
      "Epoch 132, Train: 0.00043827746412716806, Test: 0.0006866953335702419, \n",
      "Epoch 133, Train: 0.0004358459555078298, Test: 0.000686274841427803, \n",
      "Epoch 134, Train: 0.0004332352546043694, Test: 0.0006851817015558481, \n",
      "Epoch 135, Train: 0.00043045045458711684, Test: 0.0006834393716417253, \n",
      "Epoch 136, Train: 0.00042749804561026394, Test: 0.0006810528575442731, \n",
      "Epoch 137, Train: 0.0004243858275003731, Test: 0.0006780497496947646, \n",
      "Epoch 138, Train: 0.0004211191553622484, Test: 0.0006744484999217093, \n",
      "Epoch 139, Train: 0.0004177009977865964, Test: 0.0006702499813400209, \n",
      "Epoch 140, Train: 0.0004141354584135115, Test: 0.0006654700846411288, \n",
      "Epoch 141, Train: 0.0004104288527742028, Test: 0.0006601227796636522, \n",
      "Epoch 142, Train: 0.0004065810644533485, Test: 0.0006542148184962571, \n",
      "Epoch 143, Train: 0.0004025951202493161, Test: 0.0006477500428445637, \n",
      "Epoch 144, Train: 0.0003984707873314619, Test: 0.0006407289765775204, \n",
      "Epoch 145, Train: 0.0003942126058973372, Test: 0.0006331625627353787, \n",
      "Epoch 146, Train: 0.0003898203431162983, Test: 0.0006250532460398972, \n",
      "Epoch 147, Train: 0.0003852968802675605, Test: 0.0006164074875414371, \n",
      "Epoch 148, Train: 0.0003806448366958648, Test: 0.0006072378600947559, \n",
      "Epoch 149, Train: 0.0003758681414183229, Test: 0.0005975460517220199, \n",
      "Epoch 150, Train: 0.0003709715383592993, Test: 0.0005873657646588981, \n"
     ]
    }
   ],
   "source": [
    "EPOCHS = 150\n",
    "history = defaultdict(list)\n",
    "\n",
    "for epoch in range(EPOCHS):\n",
    "    # Reset the metrics at the start of the next epoch\n",
    "    metric.reset_states()\n",
    "    test_metric.reset_states()\n",
    "\n",
    "\n",
    "    for x, y in test_ds:\n",
    "        test_step(x, y)\n",
    "        \n",
    "    for x, y in train_ds:\n",
    "        train_step(x, y)\n",
    "        \n",
    "    history['train'].append(metric.result())\n",
    "    history['test'].append(test_metric.result())\n",
    "    \n",
    "    print(\n",
    "        f'Epoch {epoch + 1}, '\n",
    "        f'Train: {metric.result()}, '\n",
    "        f'Test: {test_metric.result()}, '\n",
    "    )"
   ]
  },
  {
   "cell_type": "code",
   "execution_count": 13,
   "metadata": {},
   "outputs": [
    {
     "data": {
      "text/plain": [
       "<matplotlib.legend.Legend at 0x7efd900adba8>"
      ]
     },
     "execution_count": 13,
     "metadata": {},
     "output_type": "execute_result"
    },
    {
     "data": {
      "image/png": "[encoded data removed]",
      "text/plain": [
       "<matplotlib.figure.Figure at 0x7efdc0319128>"
      ]
     },
     "metadata": {},
     "output_type": "display_data"
    }
   ],
   "source": [
    "plt.plot(history['train'], '-', label='train')\n",
    "plt.plot(history['test'], '-', label='test')\n",
    "plt.ylim([0, 0.01])\n",
    "plt.legend()"
   ]
  },
  {
   "cell_type": "code",
   "execution_count": 14,
   "metadata": {},
   "outputs": [
    {
     "data": {
      "text/plain": [
       "[<tf.Variable 'attention_model/Q/kernel:0' shape=(1, 2) dtype=float32, numpy=array([[10.98553, -6.47468]], dtype=float32)>,\n",
       " <tf.Variable 'attention_model/K/kernel:0' shape=(1, 2) dtype=float32, numpy=array([[ 14.428955, -10.657505]], dtype=float32)>,\n",
       " <tf.Variable 'attention_model/V/kernel:0' shape=(1, 2) dtype=float32, numpy=array([[ 1.0407985 , -0.06015549]], dtype=float32)>]"
      ]
     },
     "execution_count": 14,
     "metadata": {},
     "output_type": "execute_result"
    }
   ],
   "source": [
    "model.trainable_variables"
   ]
  },
  {
   "cell_type": "code",
   "execution_count": null,
   "metadata": {},
   "outputs": [],
   "source": []
  }
 ],
 "metadata": {
  "kernelspec": {
   "display_name": "Python 3",
   "language": "python",
   "name": "python3"
  },
  "language_info": {
   "codemirror_mode": {
    "name": "ipython",
    "version": 3
   },
   "file_extension": ".py",
   "mimetype": "text/x-python",
   "name": "python",
   "nbconvert_exporter": "python",
   "pygments_lexer": "ipython3",
   "version": "3.6.9"
  }
 },
 "nbformat": 4,
 "nbformat_minor": 2
}
