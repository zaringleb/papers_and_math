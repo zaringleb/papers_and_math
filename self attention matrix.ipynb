{
 "cells": [
  {
   "cell_type": "code",
   "execution_count": 1,
   "metadata": {},
   "outputs": [],
   "source": [
    "import tensorflow as tf"
   ]
  },
  {
   "cell_type": "markdown",
   "metadata": {},
   "source": [
    "**Input N Векторов Размерности K;\n",
    "M внутренний размер attention**\n",
    "\n",
    "w_key, w_query, w_value: KxM\n",
    "\n",
    "key, query, value: NxM\n",
    "\n",
    "q * k.T: NxN\n",
    "\n",
    "softmax(q * k.T): NxN\n",
    "\n",
    "weighted_values: NxNxM\n",
    "\n",
    "output: NxM\n",
    "\n",
    "Usually M = K, so self-attention blocks can be stacked"
   ]
  },
  {
   "cell_type": "code",
   "execution_count": 2,
   "metadata": {},
   "outputs": [],
   "source": [
    "# N = 2, K = 4, M = 3\n",
    "\n",
    "x = tf.constant([\n",
    "  [1, 0, 1, 0],\n",
    "  [1, 1, 1, 1],\n",
    " ], dtype=tf.float32)\n",
    "\n",
    "w_key = tf.constant([\n",
    "  [0, 0, 1],\n",
    "  [1, 1, 0],\n",
    "  [0, 1, 0],\n",
    "  [1, 1, 0]\n",
    "], dtype=tf.float32)\n",
    "\n",
    "w_query = tf.constant([\n",
    "  [0, 0, 1],\n",
    "  [1, 1, 0],\n",
    "  [0, 0, 1],\n",
    "  [0, 1, 1]\n",
    "], dtype=tf.float32)\n",
    "\n",
    "w_value = tf.constant([\n",
    "  [0, 2, 0],\n",
    "  [0, 3, 0],\n",
    "  [1, 0, 3],\n",
    "  [1, 1, 0]\n",
    "], dtype=tf.float32)"
   ]
  },
  {
   "cell_type": "code",
   "execution_count": 3,
   "metadata": {},
   "outputs": [
    {
     "name": "stdout",
     "output_type": "stream",
     "text": [
      "keys tf.Tensor(\n",
      "[[0. 1. 1.]\n",
      " [2. 3. 1.]], shape=(2, 3), dtype=float32)\n",
      "querys tf.Tensor(\n",
      "[[0. 0. 2.]\n",
      " [1. 2. 3.]], shape=(2, 3), dtype=float32)\n",
      "values tf.Tensor(\n",
      "[[1. 2. 3.]\n",
      " [2. 6. 3.]], shape=(2, 3), dtype=float32)\n"
     ]
    }
   ],
   "source": [
    "keys = x @ w_key\n",
    "querys = x @ w_query\n",
    "values = x @ w_value\n",
    "\n",
    "print('keys', keys)\n",
    "print('querys', querys)\n",
    "print('values', values)"
   ]
  },
  {
   "cell_type": "code",
   "execution_count": 4,
   "metadata": {},
   "outputs": [
    {
     "data": {
      "text/plain": [
       "<tf.Tensor: shape=(2, 2), dtype=float32, numpy=\n",
       "array([[ 2.,  2.],\n",
       "       [ 5., 11.]], dtype=float32)>"
      ]
     },
     "execution_count": 4,
     "metadata": {},
     "output_type": "execute_result"
    }
   ],
   "source": [
    "attn_scores = querys @ tf.transpose(keys) #tf.matmul(querys, keys, transpose_b=True)\n",
    "attn_scores"
   ]
  },
  {
   "cell_type": "code",
   "execution_count": 5,
   "metadata": {},
   "outputs": [
    {
     "data": {
      "text/plain": [
       "<tf.Tensor: shape=(2, 2), dtype=float32, numpy=\n",
       "array([[0.5       , 0.5       ],\n",
       "       [0.00247262, 0.9975274 ]], dtype=float32)>"
      ]
     },
     "execution_count": 5,
     "metadata": {},
     "output_type": "execute_result"
    }
   ],
   "source": [
    "attn_scores_softmax = tf.nn.softmax(attn_scores, axis=-1)\n",
    "attn_scores_softmax"
   ]
  },
  {
   "cell_type": "code",
   "execution_count": 6,
   "metadata": {},
   "outputs": [],
   "source": [
    "# to ease calculation\n",
    "attn_scores_softmax = tf.round(attn_scores_softmax * 10) / 10"
   ]
  },
  {
   "cell_type": "code",
   "execution_count": 7,
   "metadata": {},
   "outputs": [
    {
     "data": {
      "text/plain": [
       "<tf.Tensor: shape=(2, 3), dtype=float32, numpy=\n",
       "array([[1.5, 4. , 3. ],\n",
       "       [2. , 6. , 3. ]], dtype=float32)>"
      ]
     },
     "execution_count": 7,
     "metadata": {},
     "output_type": "execute_result"
    }
   ],
   "source": [
    "#tf.matmul(attn_scores_softmax, values)\n",
    "weighted_values = values[:,None] * tf.transpose(attn_scores_softmax)[:,:,None]\n",
    "outputs = tf.math.reduce_sum(weighted_values, axis=0)\n",
    "outputs"
   ]
  },
  {
   "cell_type": "code",
   "execution_count": null,
   "metadata": {},
   "outputs": [],
   "source": []
  }
 ],
 "metadata": {
  "kernelspec": {
   "display_name": "Python 3",
   "language": "python",
   "name": "python3"
  },
  "language_info": {
   "codemirror_mode": {
    "name": "ipython",
    "version": 3
   },
   "file_extension": ".py",
   "mimetype": "text/x-python",
   "name": "python",
   "nbconvert_exporter": "python",
   "pygments_lexer": "ipython3",
   "version": "3.6.9"
  }
 },
 "nbformat": 4,
 "nbformat_minor": 2
}
